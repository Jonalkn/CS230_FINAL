{
 "cells": [
  {
   "cell_type": "code",
   "execution_count": 1,
   "metadata": {},
   "outputs": [
    {
     "name": "stderr",
     "output_type": "stream",
     "text": [
      "/home/ubuntu/anaconda3/envs/pytorch_p36/lib/python3.6/site-packages/matplotlib/__init__.py:962: UserWarning: Duplicate key in file \"/home/ubuntu/.config/matplotlib/matplotlibrc\", line #2\n",
      "  (fname, cnt))\n",
      "/home/ubuntu/anaconda3/envs/pytorch_p36/lib/python3.6/site-packages/matplotlib/__init__.py:962: UserWarning: Duplicate key in file \"/home/ubuntu/.config/matplotlib/matplotlibrc\", line #3\n",
      "  (fname, cnt))\n"
     ]
    }
   ],
   "source": [
    "import os\n",
    "import subprocess\n",
    "from sliceSpecs import slice_spec\n",
    "%matplotlib inline"
   ]
  },
  {
   "cell_type": "code",
   "execution_count": null,
   "metadata": {},
   "outputs": [],
   "source": [
    "%run train.py --restore_file best"
   ]
  },
  {
   "cell_type": "code",
   "execution_count": null,
   "metadata": {},
   "outputs": [],
   "source": [
    "%run evaluate.py"
   ]
  },
  {
   "cell_type": "code",
   "execution_count": 2,
   "metadata": {},
   "outputs": [],
   "source": [
    "#Test a songs genre\n",
    "#Put the desired song in the song_test folder and run\n",
    "\n",
    "# Clear all temporary data folder first\n",
    "output_dir = \"data/128x128_specs/tmp_specs\"\n",
    "if os.path.exists(output_dir):\n",
    "    c1 = [\"rm\", \"-r\", \"data/128x128_specs/tmp_specs/\"]\n",
    "    subprocess.call(c1)\n",
    "    \n",
    "fname = \"test_songs/000190.wav\"#path to song\n",
    "\n",
    "# Convert to .wav first\n",
    "if fname.endswith(\".mp3\"):\n",
    "    command = ['ffmpeg', '-v', '0', '-i', fname, fname.split(\".mp\")[0]+ \".wav\"]\n",
    "    subprocess.call(command)\n",
    "    fname = fname.split(\".mp\")[0]+ \".wav\"\n",
    "    \n",
    "# Create a spectrogram using sox\n",
    "dest = fname.split(\".wa\")[0] + \".png\"\n",
    "command = ['sox', fname, '-n', 'remix', '1','spectrogram', '-Y', '200', '-X', '50', '-m', '-r', '-o', dest]\n",
    "subprocess.call(command)\n",
    "\n",
    "#slice and save spectrograms\n",
    "input_dir = \"test_songs/\"\n",
    "if not os.path.exists(output_dir):\n",
    "    os.mkdir(output_dir)\n",
    "new_dest= dest.split(\"/\")[-1]\n",
    "slice_spec(new_dest, 128, input_dir, output_dir)"
   ]
  },
  {
   "cell_type": "code",
   "execution_count": 3,
   "metadata": {},
   "outputs": [
    {
     "name": "stderr",
     "output_type": "stream",
     "text": [
      "Creating the dataset...\n",
      "- done.\n",
      "Starting classification\n"
     ]
    },
    {
     "name": "stdout",
     "output_type": "stream",
     "text": [
      "This track is definitely Folk\n"
     ]
    },
    {
     "data": {
      "image/png": "[encoded data removed]",
      "text/plain": [
       "<matplotlib.figure.Figure at 0x7f3e59dfa518>"
      ]
     },
     "metadata": {},
     "output_type": "display_data"
    },
    {
     "data": {
      "text/plain": [
       "<matplotlib.figure.Figure at 0x7f3ea3ab2400>"
      ]
     },
     "metadata": {},
     "output_type": "display_data"
    }
   ],
   "source": [
    "%run classify_genre.py"
   ]
  }
 ],
 "metadata": {
  "kernelspec": {
   "display_name": "Python 3",
   "language": "python",
   "name": "python3"
  },
  "language_info": {
   "codemirror_mode": {
    "name": "ipython",
    "version": 3
   },
   "file_extension": ".py",
   "mimetype": "text/x-python",
   "name": "python",
   "nbconvert_exporter": "python",
   "pygments_lexer": "ipython3",
   "version": "3.6.4"
  }
 },
 "nbformat": 4,
 "nbformat_minor": 2
}
