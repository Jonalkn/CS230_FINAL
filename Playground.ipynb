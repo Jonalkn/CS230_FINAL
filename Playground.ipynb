{
 "cells": [
  {
   "cell_type": "code",
   "execution_count": 1,
   "metadata": {},
   "outputs": [
    {
     "name": "stderr",
     "output_type": "stream",
     "text": [
      "/home/ubuntu/anaconda3/envs/pytorch_p36/lib/python3.6/site-packages/matplotlib/__init__.py:962: UserWarning: Duplicate key in file \"/home/ubuntu/.config/matplotlib/matplotlibrc\", line #2\n",
      "  (fname, cnt))\n",
      "/home/ubuntu/anaconda3/envs/pytorch_p36/lib/python3.6/site-packages/matplotlib/__init__.py:962: UserWarning: Duplicate key in file \"/home/ubuntu/.config/matplotlib/matplotlibrc\", line #3\n",
      "  (fname, cnt))\n"
     ]
    }
   ],
   "source": [
    "%matplotlib inline"
   ]
  },
  {
   "cell_type": "code",
   "execution_count": 3,
   "metadata": {},
   "outputs": [
    {
     "name": "stderr",
     "output_type": "stream",
     "text": [
      "Loading the datasets...\n",
      "- done.\n",
      "Starting training for 1 epoch(s)\n",
      "Restoring parameters from experiments/deep_model/best.pth.tar\n",
      "Epoch 1/1\n",
      "100%|██████████| 2480/2480 [15:42<00:00,  2.65it/s, loss=1.379]\n",
      "- Train metrics: accuracy: 0.526 ; loss: 1.325\n",
      "- Eval metrics : accuracy: 0.474 ; loss: 1.441\n"
     ]
    },
    {
     "name": "stdout",
     "output_type": "stream",
     "text": [
      "Predicted   0.0   1.0  2.0  3.0  4.0  5.0  6.0  7.0   All\n",
      "Actual                                                   \n",
      "0.0         348    97    1    9   54    4    7    2   522\n",
      "1.0          55   321   14    7  116   15    6    6   540\n",
      "2.0          35   103  154   11  102   25   54   17   501\n",
      "3.0         187    50    2  259    6    7   10    7   528\n",
      "4.0          50    77    6    0  365    5    5   11   519\n",
      "5.0          94    87   13   18   22  232   14   11   491\n",
      "6.0         161   131   11   21   62   31   89   55   561\n",
      "7.0          71   154    4    6   44    9   19  208   515\n",
      "All        1001  1020  205  331  771  328  204  317  4177\n"
     ]
    },
    {
     "data": {
      "image/png": "[encoded data removed]",
      "text/plain": [
       "<matplotlib.figure.Figure at 0x7fdaba293b70>"
      ]
     },
     "metadata": {},
     "output_type": "display_data"
    },
    {
     "name": "stdout",
     "output_type": "stream",
     "text": [
      "Checkpoint Directory exists! \n"
     ]
    },
    {
     "name": "stderr",
     "output_type": "stream",
     "text": [
      "- Found new best accuracy\n"
     ]
    }
   ],
   "source": [
    "%run train.py --restore_file best"
   ]
  },
  {
   "cell_type": "code",
   "execution_count": 4,
   "metadata": {},
   "outputs": [
    {
     "name": "stderr",
     "output_type": "stream",
     "text": [
      "Creating the dataset...\n",
      "- done.\n",
      "Starting evaluation\n",
      "- Eval metrics : accuracy: 0.464 ; loss: 1.495\n"
     ]
    },
    {
     "name": "stdout",
     "output_type": "stream",
     "text": [
      "Predicted   0.0   1.0  2.0  3.0  4.0  5.0  6.0  7.0   All\n",
      "Actual                                                   \n",
      "0.0         393   115    1   16   57    4    0    3   589\n",
      "1.0          56   339    4    7   96   15   12    8   537\n",
      "2.0          43    95  147   13  119   41   58   14   530\n",
      "3.0         195    37    0  267   13   15   10    3   540\n",
      "4.0          66    70    4    0  383    7    5   18   553\n",
      "5.0         143    85    5   33   30  225   13    8   542\n",
      "6.0         154   124    8   21   82   38   82   47   556\n",
      "7.0          68   159    4   11   68   16   21  203   550\n",
      "All        1118  1024  173  368  848  361  201  304  4397\n"
     ]
    },
    {
     "data": {
      "image/png": "[encoded data removed]",
      "text/plain": [
       "<matplotlib.figure.Figure at 0x7fdab991e278>"
      ]
     },
     "metadata": {},
     "output_type": "display_data"
    }
   ],
   "source": [
    "%run evaluate.py"
   ]
  }
 ],
 "metadata": {
  "kernelspec": {
   "display_name": "Python 3",
   "language": "python",
   "name": "python3"
  },
  "language_info": {
   "codemirror_mode": {
    "name": "ipython",
    "version": 3
   },
   "file_extension": ".py",
   "mimetype": "text/x-python",
   "name": "python",
   "nbconvert_exporter": "python",
   "pygments_lexer": "ipython3",
   "version": "3.6.4"
  }
 },
 "nbformat": 4,
 "nbformat_minor": 2
}
