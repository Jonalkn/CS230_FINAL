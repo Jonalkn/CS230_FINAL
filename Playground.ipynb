{
 "cells": [
  {
   "cell_type": "code",
   "execution_count": 1,
   "metadata": {},
   "outputs": [
    {
     "name": "stderr",
     "output_type": "stream",
     "text": [
      "/home/ubuntu/anaconda3/envs/pytorch_p36/lib/python3.6/site-packages/matplotlib/__init__.py:962: UserWarning: Duplicate key in file \"/home/ubuntu/.config/matplotlib/matplotlibrc\", line #2\n",
      "  (fname, cnt))\n",
      "/home/ubuntu/anaconda3/envs/pytorch_p36/lib/python3.6/site-packages/matplotlib/__init__.py:962: UserWarning: Duplicate key in file \"/home/ubuntu/.config/matplotlib/matplotlibrc\", line #3\n",
      "  (fname, cnt))\n"
     ]
    }
   ],
   "source": [
    "import os\n",
    "import subprocess\n",
    "import utils\n",
    "%matplotlib inline"
   ]
  },
  {
   "cell_type": "code",
   "execution_count": 3,
   "metadata": {},
   "outputs": [
    {
     "name": "stderr",
     "output_type": "stream",
     "text": [
      "Creating the dataset...\n",
      "- done.\n",
      "Starting evaluation\n",
      "- Eval metrics : accuracy: 0.892 ; loss: 0.546\n",
      "/home/ubuntu/anaconda3/envs/pytorch_p36/lib/python3.6/site-packages/matplotlib/figure.py:2022: UserWarning: This figure includes Axes that are not compatible with tight_layout, so results might be incorrect.\n",
      "  warnings.warn(\"This figure includes Axes that are not compatible \"\n"
     ]
    },
    {
     "name": "stdout",
     "output_type": "stream",
     "text": [
      "Predicted  0.0  1.0  2.0  3.0  4.0  5.0  6.0  7.0   All\n",
      "Actual                                                 \n",
      "0.0        536   17    7    8    6    4    9    2   589\n",
      "1.0         19  468   14    0   11    4    5   16   537\n",
      "2.0          6    4  493    5    7    4    2    9   530\n",
      "3.0         18    7    3  492    4    7    6    3   540\n",
      "4.0          8    7   17    0  505    3    6    7   553\n",
      "5.0         17    2    8   11    6  485   10    3   542\n",
      "6.0         20   19   19   10    9   12  454   13   556\n",
      "7.0          7    9   15    5    8    4   17  485   550\n",
      "All        631  533  576  531  556  523  509  538  4397\n"
     ]
    },
    {
     "data": {
      "image/png": "[encoded data removed]",
      "text/plain": [
       "<matplotlib.figure.Figure at 0x7facabd32d30>"
      ]
     },
     "metadata": {},
     "output_type": "display_data"
    }
   ],
   "source": [
    "%run evaluate.py --data_dir data/128x128_specs --model_dir experiments/fusion --save_plot True"
   ]
  },
  {
   "cell_type": "code",
   "execution_count": null,
   "metadata": {},
   "outputs": [],
   "source": [
    "%run evaluate.py --data_dir data/128x128_specs_tmp --model_dir experiments/data_aug"
   ]
  },
  {
   "cell_type": "code",
   "execution_count": 2,
   "metadata": {},
   "outputs": [
    {
     "name": "stdout",
     "output_type": "stream",
     "text": [
      "Warning: temporary directory test_songs/ already exists\n"
     ]
    },
    {
     "name": "stderr",
     "output_type": "stream",
     "text": [
      "Creating the dataset...\n",
      "- done.\n",
      "Starting classification\n"
     ]
    },
    {
     "name": "stdout",
     "output_type": "stream",
     "text": [
      "This track is definitely Electronic\n",
      "I am 79.3063664171072% sure.\n"
     ]
    },
    {
     "data": {
      "image/png": "[encoded data removed]",
      "text/plain": [
       "<matplotlib.figure.Figure at 0x7facb0259208>"
      ]
     },
     "metadata": {},
     "output_type": "display_data"
    },
    {
     "data": {
      "text/plain": [
       "<matplotlib.figure.Figure at 0x7facb1030ac8>"
      ]
     },
     "metadata": {},
     "output_type": "display_data"
    }
   ],
   "source": [
    "# path = \"test_songs/enc_althphp.mp3\" #I am not sure\n",
    "# path = \"test_songs/000190.mp3\" # Def Folk\n",
    "# path = \"test_songs/borrtex_class.mp3\" # classical (Instrumental)\n",
    "# path = \"test_songs/folk_intnl.mp3\" #Intnl; folk\n",
    "# path = \"test_songs/sidipe_african.mp3\" #African\n",
    "#path = \"test_songs/ineed_love_pop.mp3\" #Fails\n",
    "path = \"test_songs/hicham_electronic.mp3\"\n",
    "\n",
    "\n",
    "out_path = \"data/128x128_specs/tmp_specs\"\n",
    "utils.preprocess_track_for_classification(path, out_path)\n",
    "%run classify_genre.py --model_dir experiments/fusion --data_dir data/128x128_specs"
   ]
  },
  {
   "cell_type": "code",
   "execution_count": null,
   "metadata": {},
   "outputs": [],
   "source": []
  }
 ],
 "metadata": {
  "kernelspec": {
   "display_name": "Python 3",
   "language": "python",
   "name": "python3"
  },
  "language_info": {
   "codemirror_mode": {
    "name": "ipython",
    "version": 3
   },
   "file_extension": ".py",
   "mimetype": "text/x-python",
   "name": "python",
   "nbconvert_exporter": "python",
   "pygments_lexer": "ipython3",
   "version": "3.6.4"
  }
 },
 "nbformat": 4,
 "nbformat_minor": 2
}
